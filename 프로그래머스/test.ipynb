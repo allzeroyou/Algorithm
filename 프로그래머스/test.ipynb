{
 "cells": [
  {
   "cell_type": "code",
   "execution_count": null,
   "metadata": {
    "collapsed": true
   },
   "outputs": [],
   "source": []
  },
  {
   "cell_type": "code",
   "execution_count": null,
   "outputs": [],
   "source": [
    "import sys\n",
    "\n",
    "input = sys.stdin.readline\n",
    "\n",
    "# 0과 1로 이뤄진 어떤 문자열 x\n",
    "# x의 모든 0 제거\n",
    "\n",
    "\n",
    "# x의 길이를 c라고 하면 x를 c를 2진법으로 표현한 문자열로 바꿈.\n",
    "\n",
    "# x=\"0111010\" -> 이진 변환 -> x=\"1111\"(0 제거) -> 길이:4이므로 이진법으로->\"100\"이됨.\n",
    "# s가 1이 될때까지 계속해서 이진변환\n",
    "# 이진 변환 횟수, 제거된 0의 개수를 각각 배열에 담아서 return\n",
    "\n",
    "# 문자열 돌면서 0 제거\n",
    "\n",
    "# 남은 문자열 길이재기\n",
    "\n",
    "# 길이를 bin()함수 써서 이진수로 변경\n",
    "def solution(s):\n",
    "\n",
    "    answer = []\n",
    "    binary_cnt = 0\n",
    "    zero_cnt=0\n",
    "\n",
    "    while True:\n",
    "        if s==\"1\":\n",
    "            break\n",
    "        for i in range(len(s)):\n",
    "            if s[i]==\"0\":\n",
    "                s.replace(s[i], \"\")\n",
    "                zero_cnt+=1\n",
    "        length = len(s)\n",
    "        bin(length)\n",
    "        binary_cnt+=1\n",
    "    return answer.append(binary_cnt, zero_cnt)\n",
    "\n",
    "print(solution(\"01110\"\t))"
   ],
   "metadata": {
    "collapsed": false,
    "pycharm": {
     "is_executing": true
    }
   }
  }
 ],
 "metadata": {
  "kernelspec": {
   "name": "conda",
   "language": "python",
   "display_name": "data-conda"
  },
  "language_info": {
   "codemirror_mode": {
    "name": "ipython",
    "version": 2
   },
   "file_extension": ".py",
   "mimetype": "text/x-python",
   "name": "python",
   "nbconvert_exporter": "python",
   "pygments_lexer": "ipython2",
   "version": "2.7.6"
  }
 },
 "nbformat": 4,
 "nbformat_minor": 0
}
